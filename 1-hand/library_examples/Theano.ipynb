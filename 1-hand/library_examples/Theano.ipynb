{
 "cells": [
  {
   "cell_type": "markdown",
   "metadata": {},
   "source": [
    "### Work in progress"
   ]
  },
  {
   "cell_type": "code",
   "execution_count": 1,
   "metadata": {},
   "outputs": [],
   "source": [
    "import matplotlib.pyplot as plt\n",
    "import matplotlib.image as mpimg\n",
    "\n",
    "import numpy as np\n",
    "from os import listdir\n",
    "import re"
   ]
  },
  {
   "cell_type": "markdown",
   "metadata": {},
   "source": [
    "### Retrieve data files list"
   ]
  },
  {
   "cell_type": "code",
   "execution_count": 2,
   "metadata": {},
   "outputs": [],
   "source": [
    "folder = './'\n",
    "# get all file names\n",
    "files = [f for f in listdir(folder) if f[-4:]=='.png']\n",
    "# load one to get the dimensions\n",
    "image = mpimg.imread(f'{folder}{files[0]}')\n",
    "# get dimensions\n",
    "shape = list(image.shape)\n",
    "# remove alpha if necessary\n",
    "if (shape[2]==4):\n",
    "    shape[2] = 3\n",
    "n = len(files)"
   ]
  },
  {
   "cell_type": "markdown",
   "metadata": {},
   "source": [
    "### Read in data"
   ]
  },
  {
   "cell_type": "code",
   "execution_count": 4,
   "metadata": {},
   "outputs": [],
   "source": [
    "y = np.zeros(shape=n,dtype=int)\n",
    "X = np.zeros(shape=(n,*shape))\n",
    "for i in range(len(files)):\n",
    "    # get the hour from the file name\n",
    "    y[i] = re.search('^([0-9]*)_',files[i])[1]\n",
    "    # get the pixels, remove the alpha if needed and convert to 0-255\n",
    "    X[i] = (mpimg.imread(f'{folder}{files[i]}')[:,:,:shape[2]] )\n",
    "    \n",
    "# transform y to label encoded\n",
    "temp = y.copy()\n",
    "y = np.zeros(shape=(n,12),dtype=int)\n",
    "for i in range(n):\n",
    "    y[i,temp[i]-1] = 1   "
   ]
  },
  {
   "cell_type": "markdown",
   "metadata": {},
   "source": [
    "### Split data to training and test sets"
   ]
  },
  {
   "cell_type": "code",
   "execution_count": 5,
   "metadata": {},
   "outputs": [],
   "source": [
    "# note, the input files are already shuffled\n",
    "train = 0.8\n",
    "cutoff = int(len(X) * train)\n",
    "\n",
    "X_train = X[:cutoff]\n",
    "y_train = y[:cutoff]\n",
    "\n",
    "X_test = X[cutoff:]\n",
    "y_test = y[cutoff:]"
   ]
  },
  {
   "cell_type": "markdown",
   "metadata": {},
   "source": [
    "### Network"
   ]
  },
  {
   "cell_type": "code",
   "execution_count": 7,
   "metadata": {},
   "outputs": [],
   "source": [
    "import theano\n",
    "import theano.tensor as T"
   ]
  },
  {
   "cell_type": "code",
   "execution_count": 13,
   "metadata": {},
   "outputs": [],
   "source": [
    "def new_weights(shape):\n",
    "    return theano.shared(np.random.normal(scale=0.1,size=shape))\n",
    "\n",
    "def new_bias(length):\n",
    "    return theano.shared(np.zeros(length))\n",
    "\n",
    "def new_fc_layer(X,num_inputs,num_outputs,use_relu=True,drop_out=None):\n",
    "    weights = new_weights([num_inputs,num_outputs])\n",
    "    bias = new_bias(num_outputs)\n",
    "    layer = X.dot(weights) + bias\n",
    "    if (use_relu):\n",
    "        layer = T.nnet.relu(layer)\n",
    "    if (drop_out is not None):\n",
    "        ## TODO   \n",
    "        pass\n",
    "    return layer\n",
    "\n",
    "def new_conv_layer(X,channels,k_size,n_kernels,use_pooling=True):\n",
    "    #X : b_size,ch,rows,cols probably need to reshape X in the readin\n",
    "    shape = [n_kernels,channels,k_size,k_size]\n",
    "    kernels = new_weights(shape)\n",
    "    bias = new_bias(n_kernels)\n",
    "    \n",
    "    layer = T.nnet.conv2d(input=X,filter=kernels)\n",
    "\n",
    "    layer+= bias\n",
    "    \n",
    "    if use_pooling:\n",
    "        layer = T.signal.pool.pool_2d()\n",
    "    \n",
    "    layer = tf.nn.relu(layer)\n",
    "    \n",
    "    return layer, kernels\n",
    "\n",
    "def flatten(layer):\n",
    "    shape = layer.shape\n",
    "    num_features = np.array(shape[1:4],dtype=int).prod()\n",
    "    layer_flat = tf.reshape(layer,[-1,num_features])\n",
    "    return layer_flat,num_features"
   ]
  },
  {
   "cell_type": "code",
   "execution_count": 11,
   "metadata": {},
   "outputs": [],
   "source": [
    "img_size = shape[0]\n",
    "channels = shape[2]\n",
    "img_size_flat = np.array(shape).prod()\n",
    "\n",
    "x_image = tf.placeholder(tf.float32,shape=[None,img_size,img_size,channels],name='x_image')\n",
    "\n",
    "y_true = tf.placeholder(tf.float32,shape=[None,12],name='y_true')\n",
    "\n",
    "nk1 = 64\n",
    "nk2 = 32\n",
    "\n",
    "layer_conv1, conv1_weights = new_conv_layer(x_image,channels,3,nk1,False)  \n",
    "layer_conv2, conv2_weights = new_conv_layer(layer_conv1,nk1,3,nk2,True)  \n",
    "layer_flat,n_n = flatten(layer_conv2)\n",
    "\n",
    "n_fc = 256\n",
    "\n",
    "layer_fc1 = new_fc_layer(layer_flat,n_n,n_fc,True,0.5)\n",
    "\n",
    "layer_fc2 = new_fc_layer(layer_fc1,n_fc,12,False)\n",
    "\n",
    "y_pred = tf.nn.softmax(layer_fc2)\n",
    "\n",
    "cross_entropy = tf.nn.softmax_cross_entropy_with_logits_v2(logits=layer_fc2,labels=y_true)\n",
    "\n",
    "cost = tf.reduce_mean(cross_entropy)\n",
    "\n",
    "optimizer = tf.train.AdamOptimizer(learning_rate=0.001).minimize(cost)\n",
    "\n",
    "pred_labels = tf.math.round(y_pred)\n",
    "correct_pred = tf.equal(pred_labels,y_true)\n",
    "accuracy = tf.reduce_mean(tf.cast(correct_pred,tf.float32))"
   ]
  },
  {
   "cell_type": "code",
   "execution_count": 14,
   "metadata": {},
   "outputs": [],
   "source": [
    "def optimize(num_iterations,X,y,batch_size):\n",
    "    batches = int(len(X)/batch_size)\n",
    "    for i in range(num_iterations):    \n",
    "        for j in range(batches):\n",
    "            x_batch = X[j*batch_size:(j+1)*batch_size]\n",
    "            y_batch = y[j*batch_size:(j+1)*batch_size]\n",
    "            feed_dict = {x_image: x_batch,y_true:y_batch}\n",
    "            session.run(optimizer,feed_dict)\n",
    "        cst,acc = session.run([cost,accuracy],feed_dict)\n",
    "        print(f'Iteration {i}', f'cost: {cst}, accuracy: {acc}')"
   ]
  }
 ],
 "metadata": {
  "kernelspec": {
   "display_name": "Python 3",
   "language": "python",
   "name": "python3"
  },
  "language_info": {
   "codemirror_mode": {
    "name": "ipython",
    "version": 3
   },
   "file_extension": ".py",
   "mimetype": "text/x-python",
   "name": "python",
   "nbconvert_exporter": "python",
   "pygments_lexer": "ipython3",
   "version": "3.6.7"
  }
 },
 "nbformat": 4,
 "nbformat_minor": 2
}
