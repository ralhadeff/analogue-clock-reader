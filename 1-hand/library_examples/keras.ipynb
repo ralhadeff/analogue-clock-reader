{
 "cells": [
  {
   "cell_type": "code",
   "execution_count": 1,
   "metadata": {},
   "outputs": [],
   "source": [
    "import matplotlib.pyplot as plt\n",
    "import matplotlib.image as mpimg\n",
    "\n",
    "import numpy as np\n",
    "from os import listdir\n",
    "import re"
   ]
  },
  {
   "cell_type": "markdown",
   "metadata": {},
   "source": [
    "### Retrieve data files list"
   ]
  },
  {
   "cell_type": "code",
   "execution_count": 2,
   "metadata": {},
   "outputs": [],
   "source": [
    "folder = 'data/'\n",
    "# get all file names\n",
    "files = [f for f in listdir(folder) if f[-4:]=='.png']\n",
    "# load one to get the dimensions\n",
    "image = mpimg.imread(f'{folder}{files[0]}')\n",
    "# get dimensions\n",
    "shape = list(image.shape)\n",
    "# remove alpha if necessary\n",
    "if (shape[2]==4):\n",
    "    shape[2] = 3\n",
    "n = len(files)"
   ]
  },
  {
   "cell_type": "markdown",
   "metadata": {},
   "source": [
    "### Read in data"
   ]
  },
  {
   "cell_type": "code",
   "execution_count": 3,
   "metadata": {},
   "outputs": [],
   "source": [
    "y = np.zeros(shape=n,dtype=int)\n",
    "X = np.zeros(shape=(n,*shape))\n",
    "for i in range(len(files)):\n",
    "    # get the hour from the file name\n",
    "    y[i] = re.search('^([0-9]*)_',files[i])[1]\n",
    "    # get the pixels, remove the alpha if needed and convert to 0-255\n",
    "    X[i] = (mpimg.imread(f'{folder}{files[i]}')[:,:,:shape[2]] )\n",
    "    \n",
    "# transform y to label encoded\n",
    "temp = y.copy()\n",
    "y = np.zeros(shape=(n,12),dtype=int)\n",
    "for i in range(n):\n",
    "    y[i,temp[i]-1] = 1   "
   ]
  },
  {
   "cell_type": "markdown",
   "metadata": {},
   "source": [
    "### Split data to training and test sets"
   ]
  },
  {
   "cell_type": "code",
   "execution_count": 4,
   "metadata": {},
   "outputs": [],
   "source": [
    "# note, the input files are already shuffled\n",
    "train = 0.8\n",
    "cutoff = int(len(X) * train)\n",
    "\n",
    "X_train = X[:cutoff]\n",
    "y_train = y[:cutoff]\n",
    "\n",
    "X_test = X[cutoff:]\n",
    "y_test = y[cutoff:]"
   ]
  },
  {
   "cell_type": "markdown",
   "metadata": {},
   "source": [
    "### Observe one sample"
   ]
  },
  {
   "cell_type": "code",
   "execution_count": 5,
   "metadata": {},
   "outputs": [
    {
     "name": "stdout",
     "output_type": "stream",
     "text": [
      "2338\n",
      "[0 0 0 0 0 0 1 0 0 0 0 0]\n"
     ]
    },
    {
     "data": {
      "image/png": "[encoded data removed]",
      "text/plain": [
       "<Figure size 360x360 with 1 Axes>"
      ]
     },
     "metadata": {},
     "output_type": "display_data"
    }
   ],
   "source": [
    "i = np.random.randint(0,n)\n",
    "print(i)\n",
    "print(y[i])\n",
    "plt.figure(figsize=(5,5))\n",
    "plt.imshow(X[i])\n",
    "plt.show()"
   ]
  },
  {
   "cell_type": "markdown",
   "metadata": {},
   "source": [
    "### Network"
   ]
  },
  {
   "cell_type": "code",
   "execution_count": 6,
   "metadata": {},
   "outputs": [
    {
     "name": "stderr",
     "output_type": "stream",
     "text": [
      "Using TensorFlow backend.\n"
     ]
    }
   ],
   "source": [
    "from keras.models import Sequential\n",
    "from keras.layers import Dense, Convolution2D, Flatten, MaxPooling2D, Activation, Dropout"
   ]
  },
  {
   "cell_type": "code",
   "execution_count": 8,
   "metadata": {},
   "outputs": [],
   "source": [
    "model = Sequential()\n",
    "model.add(Convolution2D(64, kernel_size=3,activation='relu', input_shape=shape))\n",
    "model.add(Convolution2D(32, kernel_size=3,activation='relu'))\n",
    "model.add(MaxPooling2D())\n",
    "model.add(Flatten())\n",
    "model.add(Dense(256,activation='relu'))\n",
    "model.add(Dropout(rate=0.5))\n",
    "model.add(Dense(12,activation='softmax'))\n",
    "model.compile(loss='categorical_crossentropy',\n",
    "              optimizer='adam',\n",
    "              metrics=['accuracy'])"
   ]
  },
  {
   "cell_type": "code",
   "execution_count": 9,
   "metadata": {},
   "outputs": [
    {
     "name": "stdout",
     "output_type": "stream",
     "text": [
      "WARNING:tensorflow:From /home/raphael/.local/lib/python3.6/site-packages/tensorflow/python/ops/math_ops.py:3066: to_int32 (from tensorflow.python.ops.math_ops) is deprecated and will be removed in a future version.\n",
      "Instructions for updating:\n",
      "Use tf.cast instead.\n",
      "Epoch 1/20\n",
      "3200/3200 [==============================] - 69s 22ms/step - loss: 2.4477 - acc: 0.1384\n",
      "Epoch 2/20\n",
      "3200/3200 [==============================] - 68s 21ms/step - loss: 1.8558 - acc: 0.3575\n",
      "Epoch 3/20\n",
      "3200/3200 [==============================] - 68s 21ms/step - loss: 1.3658 - acc: 0.5078\n",
      "Epoch 4/20\n",
      "3200/3200 [==============================] - 66s 21ms/step - loss: 1.0259 - acc: 0.6241\n",
      "Epoch 5/20\n",
      "3200/3200 [==============================] - 66s 21ms/step - loss: 0.7700 - acc: 0.7091\n",
      "Epoch 6/20\n",
      "3200/3200 [==============================] - 65s 20ms/step - loss: 0.6165 - acc: 0.7791\n",
      "Epoch 7/20\n",
      "3200/3200 [==============================] - 62s 19ms/step - loss: 0.4939 - acc: 0.8209\n",
      "Epoch 8/20\n",
      "3200/3200 [==============================] - 63s 20ms/step - loss: 0.3889 - acc: 0.8709\n",
      "Epoch 9/20\n",
      "3200/3200 [==============================] - 64s 20ms/step - loss: 0.3150 - acc: 0.8884\n",
      "Epoch 10/20\n",
      "3200/3200 [==============================] - 64s 20ms/step - loss: 0.2641 - acc: 0.9144\n",
      "Epoch 11/20\n",
      "3200/3200 [==============================] - 67s 21ms/step - loss: 0.2289 - acc: 0.9181\n",
      "Epoch 12/20\n",
      "3200/3200 [==============================] - 64s 20ms/step - loss: 0.1949 - acc: 0.9303\n",
      "Epoch 13/20\n",
      "3200/3200 [==============================] - 65s 20ms/step - loss: 0.1567 - acc: 0.9466\n",
      "Epoch 14/20\n",
      "3200/3200 [==============================] - 64s 20ms/step - loss: 0.1513 - acc: 0.9506\n",
      "Epoch 15/20\n",
      "3200/3200 [==============================] - 64s 20ms/step - loss: 0.1222 - acc: 0.9628\n",
      "Epoch 16/20\n",
      "3200/3200 [==============================] - 67s 21ms/step - loss: 0.1159 - acc: 0.9669\n",
      "Epoch 17/20\n",
      "3200/3200 [==============================] - 66s 21ms/step - loss: 0.1053 - acc: 0.9650\n",
      "Epoch 18/20\n",
      "3200/3200 [==============================] - 66s 21ms/step - loss: 0.1006 - acc: 0.9653\n",
      "Epoch 19/20\n",
      "3200/3200 [==============================] - 68s 21ms/step - loss: 0.0853 - acc: 0.9725\n",
      "Epoch 20/20\n",
      "3200/3200 [==============================] - 64s 20ms/step - loss: 0.0782 - acc: 0.9738\n"
     ]
    },
    {
     "data": {
      "text/plain": [
       "<keras.callbacks.History at 0x7f880cecda90>"
      ]
     },
     "execution_count": 9,
     "metadata": {},
     "output_type": "execute_result"
    }
   ],
   "source": [
    "model.fit(X_train, y_train,\n",
    "          epochs=20,\n",
    "          batch_size=50)"
   ]
  },
  {
   "cell_type": "code",
   "execution_count": 10,
   "metadata": {},
   "outputs": [
    {
     "name": "stdout",
     "output_type": "stream",
     "text": [
      "800/800 [==============================] - 3s 4ms/step\n"
     ]
    },
    {
     "data": {
      "text/plain": [
       "[0.3158560013398528, 0.9037499949336052]"
      ]
     },
     "execution_count": 10,
     "metadata": {},
     "output_type": "execute_result"
    }
   ],
   "source": [
    "score = model.evaluate(X_test, y_test, batch_size=50)\n",
    "score"
   ]
  }
 ],
 "metadata": {
  "kernelspec": {
   "display_name": "Python 3",
   "language": "python",
   "name": "python3"
  },
  "language_info": {
   "codemirror_mode": {
    "name": "ipython",
    "version": 3
   },
   "file_extension": ".py",
   "mimetype": "text/x-python",
   "name": "python",
   "nbconvert_exporter": "python",
   "pygments_lexer": "ipython3",
   "version": "3.6.8"
  }
 },
 "nbformat": 4,
 "nbformat_minor": 2
}
