{
 "cells": [
  {
   "cell_type": "code",
   "execution_count": 1,
   "metadata": {},
   "outputs": [],
   "source": [
    "import matplotlib.pyplot as plt\n",
    "import matplotlib.image as mpimg\n",
    "\n",
    "import numpy as np\n",
    "from os import listdir\n",
    "import re"
   ]
  },
  {
   "cell_type": "markdown",
   "metadata": {},
   "source": [
    "### Retrieve data files list"
   ]
  },
  {
   "cell_type": "code",
   "execution_count": 2,
   "metadata": {},
   "outputs": [],
   "source": [
    "folder = 'data/'\n",
    "# get all file names\n",
    "files = [f for f in listdir(folder) if f[-4:]=='.png']\n",
    "# load one to get the dimensions\n",
    "image = mpimg.imread(f'{folder}{files[0]}')\n",
    "# get dimensions\n",
    "shape = list(image.shape)\n",
    "# remove alpha if necessary\n",
    "if (shape[2]==4):\n",
    "    shape[2] = 3\n",
    "n = len(files)"
   ]
  },
  {
   "cell_type": "markdown",
   "metadata": {},
   "source": [
    "### Read in data"
   ]
  },
  {
   "cell_type": "code",
   "execution_count": 3,
   "metadata": {},
   "outputs": [],
   "source": [
    "y = np.zeros(shape=n,dtype=int)\n",
    "X = np.zeros(shape=(n,*shape))\n",
    "for i in range(len(files)):\n",
    "    # get the hour from the file name\n",
    "    y[i] = re.search('^([0-9]*)_',files[i])[1]\n",
    "    # get the pixels, remove the alpha if needed and convert to 0-255\n",
    "    X[i] = (mpimg.imread(f'{folder}{files[i]}')[:,:,:shape[2]] )\n",
    "    \n",
    "# transform y to label encoded\n",
    "temp = y.copy()\n",
    "y = np.zeros(shape=(n,12),dtype=int)\n",
    "for i in range(n):\n",
    "    y[i,temp[i]-1] = 1   "
   ]
  },
  {
   "cell_type": "markdown",
   "metadata": {},
   "source": [
    "### Split data to training and test sets"
   ]
  },
  {
   "cell_type": "code",
   "execution_count": 4,
   "metadata": {},
   "outputs": [],
   "source": [
    "# note, the input files are already shuffled\n",
    "train = 0.8\n",
    "cutoff = int(len(X) * train)\n",
    "\n",
    "\n",
    "# reorder channel for torch\n",
    "X_train = np.moveaxis(X[:cutoff],3,1)\n",
    "y_train = y[:cutoff]\n",
    "\n",
    "X_test = np.moveaxis(X[cutoff:],3,1)\n",
    "y_test = y[cutoff:]"
   ]
  },
  {
   "cell_type": "markdown",
   "metadata": {},
   "source": [
    "### Observe one sample"
   ]
  },
  {
   "cell_type": "code",
   "execution_count": 5,
   "metadata": {},
   "outputs": [
    {
     "name": "stdout",
     "output_type": "stream",
     "text": [
      "80\n",
      "[0 0 0 0 0 1 0 0 0 0 0 0]\n"
     ]
    },
    {
     "data": {
      "image/png": "[encoded data removed]",
      "text/plain": [
       "<Figure size 360x360 with 1 Axes>"
      ]
     },
     "metadata": {},
     "output_type": "display_data"
    }
   ],
   "source": [
    "i = np.random.randint(0,n)\n",
    "print(i)\n",
    "print(y[i])\n",
    "plt.figure(figsize=(5,5))\n",
    "plt.imshow(X[i])\n",
    "plt.show()"
   ]
  },
  {
   "cell_type": "markdown",
   "metadata": {},
   "source": [
    "### Network"
   ]
  },
  {
   "cell_type": "code",
   "execution_count": 6,
   "metadata": {},
   "outputs": [],
   "source": [
    "import torch"
   ]
  },
  {
   "cell_type": "code",
   "execution_count": 7,
   "metadata": {},
   "outputs": [],
   "source": [
    "class Model(torch.nn.Module):\n",
    "    \n",
    "    def __init__(self):\n",
    "        super().__init__()\n",
    "        self.conv1 = torch.nn.Conv2d(3, 64, kernel_size=3, stride=1, padding=1)\n",
    "        self.conv2 = torch.nn.Conv2d(64, 32, kernel_size=3, stride=1, padding=1)\n",
    "        self.pool = torch.nn.MaxPool2d(kernel_size=2, stride=2, padding=0)\n",
    "        # get number of neurons after flatten\n",
    "        self.flat = self.get_flat(X_train[0].shape)\n",
    "        self.fc1=torch.nn.Linear(self.flat,256)\n",
    "        self.dropout=torch.nn.Dropout(p=0.5)\n",
    "        self.output=torch.nn.Linear(256,12)\n",
    "            \n",
    "    def forward(self,X):\n",
    "        relu = torch.nn.functional.relu\n",
    "        x = relu(self.conv1(X))\n",
    "        x = relu(self.conv2(x))\n",
    "        x = self.pool(x)\n",
    "        x = x.view(-1, self.flat)\n",
    "        x = relu(self.fc1(x))\n",
    "        x = self.dropout(x)\n",
    "        x = self.output(x)\n",
    "        x = torch.nn.functional.softmax(x,dim=1)\n",
    "        return x\n",
    "    \n",
    "    def get_flat(self, input_shape):\n",
    "        x = torch.autograd.Variable(torch.rand(1, *input_shape))\n",
    "        x = self.conv1(x)\n",
    "        x = self.conv2(x)\n",
    "        x = self.pool(x)\n",
    "        return x.data.view(1, -1).size(1)        "
   ]
  },
  {
   "cell_type": "code",
   "execution_count": null,
   "metadata": {},
   "outputs": [
    {
     "name": "stdout",
     "output_type": "stream",
     "text": [
      "Epoch:1, loss:0.03833162412047386\n",
      "Epoch:2, loss:0.03831718489527702\n",
      "Epoch:3, loss:0.03748656436800957\n",
      "Epoch:4, loss:0.038292232900857925\n",
      "Epoch:5, loss:0.03448263183236122\n",
      "Epoch:6, loss:0.026417924091219902\n",
      "Epoch:7, loss:0.0020902103278785944\n"
     ]
    }
   ],
   "source": [
    "model = Model()\n",
    "optimizer = torch.optim.Adam(model.parameters())\n",
    "\n",
    "epochs = 20\n",
    "batches = 50\n",
    "batch_size = len(X_train)//batches\n",
    "\n",
    "for epoch in range(epochs):\n",
    "    for b in range(batches):\n",
    "        # get batch\n",
    "        batch = X_train[b*batch_size:(b+1)*batch_size]\n",
    "        batch = torch.autograd.Variable(torch.Tensor(batch))\n",
    "        y_b = torch.autograd.Variable(torch.Tensor(y_train[b*batch_size:(b+1)*batch_size]))\n",
    "        # prepare optimizer\n",
    "        optimizer.zero_grad()\n",
    "        # get output\n",
    "        outputs = model(batch)\n",
    "        # calculate loss and do backprop\n",
    "        loss = torch.nn.functional.smooth_l1_loss(outputs,y_b)\n",
    "        loss.backward()\n",
    "        optimizer.step()\n",
    "    print('Epoch:' + str(epoch+1) + ', loss:' + str(float(loss)))"
   ]
  },
  {
   "cell_type": "markdown",
   "metadata": {},
   "source": [
    "### Check accuracy"
   ]
  },
  {
   "cell_type": "code",
   "execution_count": null,
   "metadata": {},
   "outputs": [],
   "source": [
    "pred = model(torch.autograd.Variable(torch.Tensor(X_test)))\n",
    "(pred == y_test).mean()"
   ]
  }
 ],
 "metadata": {
  "kernelspec": {
   "display_name": "Python 3",
   "language": "python",
   "name": "python3"
  },
  "language_info": {
   "codemirror_mode": {
    "name": "ipython",
    "version": 3
   },
   "file_extension": ".py",
   "mimetype": "text/x-python",
   "name": "python",
   "nbconvert_exporter": "python",
   "pygments_lexer": "ipython3",
   "version": "3.6.8"
  }
 },
 "nbformat": 4,
 "nbformat_minor": 2
}
