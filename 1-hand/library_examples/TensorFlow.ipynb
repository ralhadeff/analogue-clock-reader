{
 "cells": [
  {
   "cell_type": "code",
   "execution_count": 1,
   "metadata": {},
   "outputs": [],
   "source": [
    "import matplotlib.pyplot as plt\n",
    "import matplotlib.image as mpimg\n",
    "\n",
    "import numpy as np\n",
    "from os import listdir\n",
    "import re"
   ]
  },
  {
   "cell_type": "markdown",
   "metadata": {},
   "source": [
    "### Retrieve data files list"
   ]
  },
  {
   "cell_type": "code",
   "execution_count": 2,
   "metadata": {},
   "outputs": [],
   "source": [
    "folder = 'data/'\n",
    "# get all file names\n",
    "files = [f for f in listdir(folder) if f[-4:]=='.png']\n",
    "# load one to get the dimensions\n",
    "image = mpimg.imread(f'{folder}{files[0]}')\n",
    "# get dimensions\n",
    "shape = list(image.shape)\n",
    "# remove alpha if necessary\n",
    "if (shape[2]==4):\n",
    "    shape[2] = 3\n",
    "n = len(files)"
   ]
  },
  {
   "cell_type": "markdown",
   "metadata": {},
   "source": [
    "### Read in data"
   ]
  },
  {
   "cell_type": "code",
   "execution_count": 3,
   "metadata": {},
   "outputs": [],
   "source": [
    "y = np.zeros(shape=n,dtype=int)\n",
    "X = np.zeros(shape=(n,*shape))\n",
    "for i in range(len(files)):\n",
    "    # get the hour from the file name\n",
    "    y[i] = re.search('^([0-9]*)_',files[i])[1]\n",
    "    # get the pixels, remove the alpha if needed and convert to 0-255\n",
    "    X[i] = (mpimg.imread(f'{folder}{files[i]}')[:,:,:shape[2]] )\n",
    "    \n",
    "# transform y to label encoded\n",
    "temp = y.copy()\n",
    "y = np.zeros(shape=(n,12),dtype=int)\n",
    "for i in range(n):\n",
    "    y[i,temp[i]-1] = 1   "
   ]
  },
  {
   "cell_type": "markdown",
   "metadata": {},
   "source": [
    "### Split data to training and test sets"
   ]
  },
  {
   "cell_type": "code",
   "execution_count": 4,
   "metadata": {},
   "outputs": [],
   "source": [
    "# note, the input files are already shuffled\n",
    "train = 0.8\n",
    "cutoff = int(len(X) * train)\n",
    "\n",
    "X_train = X[:cutoff]\n",
    "y_train = y[:cutoff]\n",
    "\n",
    "X_test = X[cutoff:]\n",
    "y_test = y[cutoff:]"
   ]
  },
  {
   "cell_type": "markdown",
   "metadata": {},
   "source": [
    "### Network"
   ]
  },
  {
   "cell_type": "code",
   "execution_count": 5,
   "metadata": {},
   "outputs": [],
   "source": [
    "import tensorflow as tf"
   ]
  },
  {
   "cell_type": "code",
   "execution_count": 11,
   "metadata": {},
   "outputs": [],
   "source": [
    "def new_weights(shape):\n",
    "    return tf.Variable(tf.truncated_normal(shape,stddev=0.1))\n",
    "\n",
    "def new_bias(length):\n",
    "    return tf.Variable(tf.constant(0.0,shape=[length]))\n",
    "    \n",
    "def new_conv_layer(X,channels,k_size,n_kernels,use_pooling=True):\n",
    "    shape=[k_size,k_size,channels,n_kernels]\n",
    "    kernels = new_weights(shape)\n",
    "    bias = new_bias(n_kernels)\n",
    "    \n",
    "    layer = tf.nn.conv2d(input=X,filter=kernels,strides=[1,1,1,1],padding='SAME')\n",
    "    layer+= bias\n",
    "    \n",
    "    if use_pooling:\n",
    "        layer = tf.nn.max_pool(layer,ksize=[1,2,2,1],strides=[1,2,2,1],padding='SAME')\n",
    "    \n",
    "    layer = tf.nn.relu(layer)\n",
    "    \n",
    "    return layer, kernels\n",
    "\n",
    "def flatten(layer):\n",
    "    shape = layer.shape\n",
    "    num_features = np.array(shape[1:4],dtype=int).prod()\n",
    "    layer_flat = tf.reshape(layer,[-1,num_features])\n",
    "    return layer_flat,num_features\n",
    "\n",
    "def new_fc_layer(X,num_inputs,num_outputs,use_relu=True,drop_out=None):\n",
    "    weights = new_weights([num_inputs,num_outputs])\n",
    "    bias = new_bias(num_outputs)\n",
    "    layer = tf.matmul(X,weights) + bias\n",
    "    if (use_relu):\n",
    "        layer = tf.nn.relu(layer)\n",
    "    if (drop_out is not None):\n",
    "        layer = tf.nn.dropout(layer,drop_out)        \n",
    "    return layer\n",
    "\n",
    "img_size = shape[0]\n",
    "channels = shape[2]\n",
    "img_size_flat = np.array(shape).prod()\n",
    "\n",
    "x_image = tf.placeholder(tf.float32,shape=[None,img_size,img_size,channels],name='x_image')\n",
    "\n",
    "y_true = tf.placeholder(tf.float32,shape=[None,12],name='y_true')\n",
    "\n",
    "nk1 = 64\n",
    "nk2 = 32\n",
    "\n",
    "layer_conv1, conv1_weights = new_conv_layer(x_image,channels,3,nk1,False)  \n",
    "layer_conv2, conv2_weights = new_conv_layer(layer_conv1,nk1,3,nk2,True)  \n",
    "layer_flat,n_n = flatten(layer_conv2)\n",
    "\n",
    "n_fc = 256\n",
    "\n",
    "layer_fc1 = new_fc_layer(layer_flat,n_n,n_fc,True,0.5)\n",
    "\n",
    "layer_fc2 = new_fc_layer(layer_fc1,n_fc,12,False)\n",
    "\n",
    "y_pred = tf.nn.softmax(layer_fc2)\n",
    "\n",
    "cross_entropy = tf.nn.softmax_cross_entropy_with_logits_v2(logits=layer_fc2,labels=y_true)\n",
    "\n",
    "cost = tf.reduce_mean(cross_entropy)\n",
    "\n",
    "optimizer = tf.train.AdamOptimizer(learning_rate=0.001).minimize(cost)\n",
    "\n",
    "pred_labels = tf.math.round(y_pred)\n",
    "correct_pred = tf.equal(pred_labels,y_true)\n",
    "accuracy = tf.reduce_mean(tf.cast(correct_pred,tf.float32))"
   ]
  },
  {
   "cell_type": "code",
   "execution_count": 12,
   "metadata": {},
   "outputs": [],
   "source": [
    "session = tf.Session()"
   ]
  },
  {
   "cell_type": "code",
   "execution_count": 13,
   "metadata": {},
   "outputs": [],
   "source": [
    "session.run(tf.global_variables_initializer())"
   ]
  },
  {
   "cell_type": "code",
   "execution_count": 14,
   "metadata": {},
   "outputs": [],
   "source": [
    "def optimize(num_iterations,X,y,batch_size):\n",
    "    batches = int(len(X)/batch_size)\n",
    "    for i in range(num_iterations):    \n",
    "        for j in range(batches):\n",
    "            x_batch = X[j*batch_size:(j+1)*batch_size]\n",
    "            y_batch = y[j*batch_size:(j+1)*batch_size]\n",
    "            feed_dict = {x_image: x_batch,y_true:y_batch}\n",
    "            session.run(optimizer,feed_dict)\n",
    "        cst,acc = session.run([cost,accuracy],feed_dict)\n",
    "        print(f'Iteration {i}', f'cost: {cst}, accuracy: {acc}')"
   ]
  },
  {
   "cell_type": "code",
   "execution_count": 15,
   "metadata": {},
   "outputs": [
    {
     "name": "stdout",
     "output_type": "stream",
     "text": [
      "Iteration 0 cost: 2.4695303440093994, accuracy: 0.9166666865348816\n",
      "Iteration 1 cost: 1.8936419486999512, accuracy: 0.9183333516120911\n",
      "Iteration 2 cost: 1.1975780725479126, accuracy: 0.9283333420753479\n",
      "Iteration 3 cost: 0.9264894127845764, accuracy: 0.9416666626930237\n",
      "Iteration 4 cost: 0.5848761796951294, accuracy: 0.9583333134651184\n",
      "Iteration 5 cost: 0.5571196675300598, accuracy: 0.9700000286102295\n",
      "Iteration 6 cost: 0.32585960626602173, accuracy: 0.9766666889190674\n",
      "Iteration 7 cost: 0.27483734488487244, accuracy: 0.9883333444595337\n",
      "Iteration 8 cost: 0.19561710953712463, accuracy: 0.9916666746139526\n",
      "Iteration 9 cost: 0.06376275420188904, accuracy: 0.996666669845581\n",
      "Iteration 10 cost: 0.10671758651733398, accuracy: 0.9933333396911621\n",
      "Iteration 11 cost: 0.04543231800198555, accuracy: 0.996666669845581\n",
      "Iteration 12 cost: 0.10767029970884323, accuracy: 0.9933333396911621\n",
      "Iteration 13 cost: 0.07193771004676819, accuracy: 0.9950000047683716\n",
      "Iteration 14 cost: 0.16845545172691345, accuracy: 0.9900000095367432\n",
      "Iteration 15 cost: 0.07984509319067001, accuracy: 0.996666669845581\n",
      "Iteration 16 cost: 0.04877700284123421, accuracy: 0.9983333349227905\n",
      "Iteration 17 cost: 0.07868771255016327, accuracy: 0.9950000047683716\n",
      "Iteration 18 cost: 0.017033983021974564, accuracy: 1.0\n",
      "Iteration 19 cost: 0.011835192330181599, accuracy: 1.0\n"
     ]
    }
   ],
   "source": [
    "optimize(num_iterations=20,X=X_train,y=y_train,batch_size=50)"
   ]
  },
  {
   "cell_type": "code",
   "execution_count": 16,
   "metadata": {},
   "outputs": [],
   "source": [
    "pred = session.run(y_pred,{x_image:X_test})"
   ]
  },
  {
   "cell_type": "code",
   "execution_count": 17,
   "metadata": {},
   "outputs": [],
   "source": [
    "flag_p = np.argmax(pred,axis=1)\n",
    "flag_r = np.argmax(y_test,axis=1)"
   ]
  },
  {
   "cell_type": "code",
   "execution_count": 18,
   "metadata": {},
   "outputs": [
    {
     "data": {
      "text/plain": [
       "0.82"
      ]
     },
     "execution_count": 18,
     "metadata": {},
     "output_type": "execute_result"
    }
   ],
   "source": [
    "(flag_p == flag_r).mean()"
   ]
  },
  {
   "cell_type": "code",
   "execution_count": null,
   "metadata": {},
   "outputs": [],
   "source": []
  },
  {
   "cell_type": "code",
   "execution_count": 19,
   "metadata": {},
   "outputs": [],
   "source": [
    "session.close()"
   ]
  }
 ],
 "metadata": {
  "kernelspec": {
   "display_name": "Python 3",
   "language": "python",
   "name": "python3"
  },
  "language_info": {
   "codemirror_mode": {
    "name": "ipython",
    "version": 3
   },
   "file_extension": ".py",
   "mimetype": "text/x-python",
   "name": "python",
   "nbconvert_exporter": "python",
   "pygments_lexer": "ipython3",
   "version": "3.6.8"
  }
 },
 "nbformat": 4,
 "nbformat_minor": 2
}
