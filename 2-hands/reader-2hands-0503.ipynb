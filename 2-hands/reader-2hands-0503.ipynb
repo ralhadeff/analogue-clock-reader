{
 "cells": [
  {
   "cell_type": "code",
   "execution_count": 1,
   "metadata": {},
   "outputs": [],
   "source": [
    "import matplotlib.pyplot as plt\n",
    "import matplotlib.image as mpimg\n",
    "\n",
    "import numpy as np\n",
    "from os import listdir\n",
    "import re"
   ]
  },
  {
   "cell_type": "code",
   "execution_count": 2,
   "metadata": {},
   "outputs": [],
   "source": [
    "# get all file names\n",
    "path = '2-hands'\n",
    "files = [f for f in listdir(path) if f[-4:]=='.png']\n",
    "# load one to get the dimensions\n",
    "image = mpimg.imread(f'{path}/{files[0]}')\n",
    "# get dimensions\n",
    "shape = list(image.shape)\n",
    "# remove alpha if necessary\n",
    "if (shape[2]==4):\n",
    "    shape[2] = 3\n",
    "n = len(files)"
   ]
  },
  {
   "cell_type": "code",
   "execution_count": 3,
   "metadata": {},
   "outputs": [],
   "source": [
    "y = np.zeros(shape=(n,2),dtype=int)\n",
    "X = np.zeros(shape=(n,*shape))\n",
    "for i in range(len(files)):\n",
    "    # get the hour from the file name\n",
    "    y[i,0] = re.search('^([0-9]*)_([0-9]*)',files[i])[1]\n",
    "    y[i,1] = re.search('^([0-9]*)_([0-9]*)',files[i])[2]\n",
    "    # get the pixels, remove the alpha if needed and convert to 0-255\n",
    "    X[i] = (mpimg.imread(f'{path}/{files[i]}')[:,:,:shape[2]] )"
   ]
  },
  {
   "cell_type": "code",
   "execution_count": 4,
   "metadata": {},
   "outputs": [],
   "source": [
    "# transform y to label encoded\n",
    "temp = y.copy()\n",
    "y = np.zeros(shape=(n,24),dtype=int)\n",
    "for i in range(n):\n",
    "    # hours, 0 to 11 for 1 to 12\n",
    "    h = temp[i,0] -1\n",
    "    # minutes 12 to 23 for 0 to 55\n",
    "    m = temp[i,1]//5 + 12\n",
    "    y[i,h] = 1\n",
    "    y[i,m] = 1"
   ]
  },
  {
   "cell_type": "code",
   "execution_count": 5,
   "metadata": {},
   "outputs": [
    {
     "name": "stdout",
     "output_type": "stream",
     "text": [
      "8_50_clock_3735.png\n",
      "8 50\n",
      "[0 0 0 0 0 0 0 1 0 0 0 0 0 0 0 0 0 0 0 0 0 0 1 0]\n"
     ]
    },
    {
     "data": {
      "image/png": "[encoded data removed]",
      "text/plain": [
       "<Figure size 360x360 with 1 Axes>"
      ]
     },
     "metadata": {},
     "output_type": "display_data"
    }
   ],
   "source": [
    "i = np.random.randint(0,n)\n",
    "print(files[i])\n",
    "print(temp[i,0],temp[i,1])\n",
    "print(y[i])\n",
    "plt.figure(figsize=(5,5))\n",
    "plt.imshow(X[i])\n",
    "plt.show()"
   ]
  },
  {
   "cell_type": "code",
   "execution_count": 6,
   "metadata": {},
   "outputs": [],
   "source": [
    "c  = 4000\n",
    "X_train = X[:c]\n",
    "y_train = y[:c]\n",
    "\n",
    "X_test = X[c:]\n",
    "y_test = y[c:]"
   ]
  },
  {
   "cell_type": "code",
   "execution_count": 7,
   "metadata": {},
   "outputs": [
    {
     "name": "stderr",
     "output_type": "stream",
     "text": [
      "Using TensorFlow backend.\n"
     ]
    }
   ],
   "source": [
    "from keras.models import Model\n",
    "from keras.layers import Input, Dense, Convolution2D, Flatten, MaxPooling2D, Dropout"
   ]
  },
  {
   "cell_type": "code",
   "execution_count": 9,
   "metadata": {},
   "outputs": [],
   "source": [
    "input_layer = Input(shape=shape)\n",
    "conv1 = Convolution2D(64, kernel_size=3,activation='relu')(input_layer)\n",
    "conv2 = Convolution2D(32, kernel_size=3,activation='relu')(conv1)\n",
    "pool = MaxPooling2D()(conv2)\n",
    "hidden = Dense(256,activation='relu')(Flatten()(pool))\n",
    "drop = Dropout(0.5)(hidden)\n",
    "output1 = Dense(12, activation='softmax')(drop)\n",
    "output2 = Dense(12, activation='softmax')(drop)\n",
    "\n",
    "model = Model(inputs=input_layer, outputs=[output1, output2])\n",
    "model.compile(optimizer='adam', loss=['categorical_crossentropy', 'categorical_crossentropy'],\n",
    "              metrics=['accuracy'], loss_weights=[1., 0.8])"
   ]
  },
  {
   "cell_type": "code",
   "execution_count": 10,
   "metadata": {},
   "outputs": [
    {
     "name": "stdout",
     "output_type": "stream",
     "text": [
      "WARNING:tensorflow:From /home/raphael/.local/lib/python3.6/site-packages/tensorflow/python/ops/math_ops.py:3066: to_int32 (from tensorflow.python.ops.math_ops) is deprecated and will be removed in a future version.\n",
      "Instructions for updating:\n",
      "Use tf.cast instead.\n",
      "Epoch 1/10\n",
      "4000/4000 [==============================] - 92s 23ms/step - loss: 4.4552 - dense_5_loss: 2.4843 - dense_6_loss: 2.4637 - dense_5_acc: 0.1027 - dense_6_acc: 0.1310\n",
      "Epoch 2/10\n",
      "4000/4000 [==============================] - 92s 23ms/step - loss: 3.5585 - dense_5_loss: 2.2531 - dense_6_loss: 1.6318 - dense_5_acc: 0.2102 - dense_6_acc: 0.4552\n",
      "Epoch 3/10\n",
      "4000/4000 [==============================] - 97s 24ms/step - loss: 2.8151 - dense_5_loss: 1.9897 - dense_6_loss: 1.0318 - dense_5_acc: 0.2840 - dense_6_acc: 0.6468\n",
      "Epoch 4/10\n",
      "4000/4000 [==============================] - 91s 23ms/step - loss: 2.3104 - dense_5_loss: 1.6931 - dense_6_loss: 0.7717 - dense_5_acc: 0.3983 - dense_6_acc: 0.7300\n",
      "Epoch 5/10\n",
      "4000/4000 [==============================] - 94s 24ms/step - loss: 1.8290 - dense_5_loss: 1.3720 - dense_6_loss: 0.5713 - dense_5_acc: 0.5065 - dense_6_acc: 0.7955\n",
      "Epoch 6/10\n",
      "4000/4000 [==============================] - 98s 25ms/step - loss: 1.4728 - dense_5_loss: 1.1178 - dense_6_loss: 0.4438 - dense_5_acc: 0.6035 - dense_6_acc: 0.8465\n",
      "Epoch 7/10\n",
      "4000/4000 [==============================] - 100s 25ms/step - loss: 1.2195 - dense_5_loss: 0.9136 - dense_6_loss: 0.3825 - dense_5_acc: 0.6775 - dense_6_acc: 0.8655\n",
      "Epoch 8/10\n",
      "4000/4000 [==============================] - 102s 25ms/step - loss: 1.0240 - dense_5_loss: 0.7755 - dense_6_loss: 0.3106 - dense_5_acc: 0.7220 - dense_6_acc: 0.8910\n",
      "Epoch 9/10\n",
      "4000/4000 [==============================] - 102s 26ms/step - loss: 0.8865 - dense_5_loss: 0.6589 - dense_6_loss: 0.2845 - dense_5_acc: 0.7638 - dense_6_acc: 0.8960\n",
      "Epoch 10/10\n",
      "4000/4000 [==============================] - 101s 25ms/step - loss: 0.7151 - dense_5_loss: 0.5334 - dense_6_loss: 0.2271 - dense_5_acc: 0.8140 - dense_6_acc: 0.9182\n"
     ]
    },
    {
     "data": {
      "text/plain": [
       "<keras.callbacks.History at 0x7fbec6ceed30>"
      ]
     },
     "execution_count": 10,
     "metadata": {},
     "output_type": "execute_result"
    }
   ],
   "source": [
    "model.fit(X_train, [y_train[:,:12],y_train[:,12:]],\n",
    "          epochs=10,\n",
    "          batch_size=25)"
   ]
  },
  {
   "cell_type": "code",
   "execution_count": 11,
   "metadata": {},
   "outputs": [
    {
     "name": "stdout",
     "output_type": "stream",
     "text": [
      "1000/1000 [==============================] - 5s 5ms/step\n"
     ]
    },
    {
     "data": {
      "text/plain": [
       "[1.3109164461493492,\n",
       " 1.062222807109356,\n",
       " 0.3108670447021723,\n",
       " 0.6400000028312206,\n",
       " 0.8939999952912331]"
      ]
     },
     "execution_count": 11,
     "metadata": {},
     "output_type": "execute_result"
    }
   ],
   "source": [
    "model.evaluate(X_test, [y_test[:,:12],y_test[:,12:]], batch_size=25)"
   ]
  }
 ],
 "metadata": {
  "kernelspec": {
   "display_name": "Python 3",
   "language": "python",
   "name": "python3"
  },
  "language_info": {
   "codemirror_mode": {
    "name": "ipython",
    "version": 3
   },
   "file_extension": ".py",
   "mimetype": "text/x-python",
   "name": "python",
   "nbconvert_exporter": "python",
   "pygments_lexer": "ipython3",
   "version": "3.6.8"
  }
 },
 "nbformat": 4,
 "nbformat_minor": 2
}
