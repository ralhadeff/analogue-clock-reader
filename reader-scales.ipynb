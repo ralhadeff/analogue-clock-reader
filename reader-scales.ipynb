{
 "cells": [
  {
   "cell_type": "code",
   "execution_count": 2,
   "metadata": {},
   "outputs": [],
   "source": [
    "import matplotlib.pyplot as plt\n",
    "import matplotlib.image as mpimg\n",
    "\n",
    "import numpy as np\n",
    "from os import listdir\n",
    "import re\n",
    "\n",
    "from PIL import Image"
   ]
  },
  {
   "cell_type": "code",
   "execution_count": 3,
   "metadata": {},
   "outputs": [
    {
     "data": {
      "text/plain": [
       "5000"
      ]
     },
     "execution_count": 3,
     "metadata": {},
     "output_type": "execute_result"
    }
   ],
   "source": [
    "# get all file names\n",
    "path = 'w_seconds'\n",
    "files = [f for f in listdir(path) if f[-4:]=='.png']\n",
    "# load one to get the dimensions\n",
    "image = mpimg.imread(f'{path}/{files[0]}')\n",
    "# get dimensions\n",
    "shape = list(image.shape)\n",
    "# remove alpha if necessary\n",
    "if (shape[2]==4):\n",
    "    shape[2] = 3\n",
    "n = len(files)\n",
    "n"
   ]
  },
  {
   "cell_type": "code",
   "execution_count": 4,
   "metadata": {},
   "outputs": [
    {
     "data": {
      "text/plain": [
       "[128, 128, 3]"
      ]
     },
     "execution_count": 4,
     "metadata": {},
     "output_type": "execute_result"
    }
   ],
   "source": [
    "shape"
   ]
  },
  {
   "cell_type": "code",
   "execution_count": 5,
   "metadata": {},
   "outputs": [],
   "source": [
    "y = np.zeros(shape=(n,2),dtype=int)\n",
    "X = np.zeros(shape=(n,*shape))\n",
    "for i in range(len(files)):\n",
    "    # get the hour from the file name\n",
    "    y[i,0] = re.search('^([0-9]*)_([0-9]*)',files[i])[1]\n",
    "    y[i,1] = re.search('^([0-9]*)_([0-9]*)',files[i])[2]\n",
    "    # get the pixels, remove the alpha if needed and convert to 0-255\n",
    "    X[i] = (mpimg.imread(f'{path}/{files[i]}')[:,:,:shape[2]] )"
   ]
  },
  {
   "cell_type": "code",
   "execution_count": 6,
   "metadata": {},
   "outputs": [],
   "source": [
    "# transform y to label encoded\n",
    "temp = y.copy()\n",
    "y = np.zeros(shape=(n,24),dtype=int)\n",
    "for i in range(n):\n",
    "    # hours, 0 to 11 for 1 to 12\n",
    "    h = temp[i,0] -1\n",
    "    # minutes 12 to 23 for 0 to 55\n",
    "    m = temp[i,1]//5 + 12\n",
    "    y[i,h] = 1\n",
    "    y[i,m] = 1"
   ]
  },
  {
   "cell_type": "code",
   "execution_count": 7,
   "metadata": {},
   "outputs": [
    {
     "name": "stdout",
     "output_type": "stream",
     "text": [
      "4_30_clock_3809.png\n",
      "4 30\n",
      "[0 0 0 1 0 0 0 0 0 0 0 0]\n",
      "[0 0 0 0 0 0 1 0 0 0 0 0]\n"
     ]
    },
    {
     "data": {
      "image/png": "[encoded data removed]",
      "text/plain": [
       "<Figure size 360x360 with 1 Axes>"
      ]
     },
     "metadata": {},
     "output_type": "display_data"
    }
   ],
   "source": [
    "i = np.random.randint(0,n)\n",
    "print(files[i])\n",
    "print(temp[i,0],temp[i,1])\n",
    "print(y[i,:12])\n",
    "print(y[i,12:])\n",
    "plt.figure(figsize=(5,5))\n",
    "plt.imshow(X[i])\n",
    "plt.show()"
   ]
  },
  {
   "cell_type": "code",
   "execution_count": 8,
   "metadata": {},
   "outputs": [],
   "source": [
    "p = 0.9\n",
    "c = int(len(X) * p)\n",
    "\n",
    "X_train = X[:c]\n",
    "y_train = y[:c]\n",
    "\n",
    "X_test = X[c:]\n",
    "y_test = y[c:]"
   ]
  },
  {
   "cell_type": "code",
   "execution_count": 9,
   "metadata": {},
   "outputs": [
    {
     "name": "stderr",
     "output_type": "stream",
     "text": [
      "Using TensorFlow backend.\n"
     ]
    }
   ],
   "source": [
    "from keras.models import Model\n",
    "from keras.layers import Input, Dense, Convolution2D, Flatten, MaxPooling2D, Dropout, GlobalAveragePooling2D"
   ]
  },
  {
   "cell_type": "code",
   "execution_count": 10,
   "metadata": {},
   "outputs": [
    {
     "name": "stdout",
     "output_type": "stream",
     "text": [
      "WARNING:tensorflow:From /home/raphael/.local/lib/python3.6/site-packages/tensorflow/python/framework/op_def_library.py:263: colocate_with (from tensorflow.python.framework.ops) is deprecated and will be removed in a future version.\n",
      "Instructions for updating:\n",
      "Colocations handled automatically by placer.\n",
      "WARNING:tensorflow:From /home/raphael/.local/lib/python3.6/site-packages/keras/backend/tensorflow_backend.py:3445: calling dropout (from tensorflow.python.ops.nn_ops) with keep_prob is deprecated and will be removed in a future version.\n",
      "Instructions for updating:\n",
      "Please use `rate` instead of `keep_prob`. Rate should be set to `rate = 1 - keep_prob`.\n",
      "__________________________________________________________________________________________________\n",
      "Layer (type)                    Output Shape         Param #     Connected to                     \n",
      "==================================================================================================\n",
      "input_1 (InputLayer)            (None, 128, 128, 3)  0                                            \n",
      "__________________________________________________________________________________________________\n",
      "conv2d_1 (Conv2D)               (None, 126, 126, 64) 1792        input_1[0][0]                    \n",
      "__________________________________________________________________________________________________\n",
      "max_pooling2d_1 (MaxPooling2D)  (None, 63, 63, 64)   0           conv2d_1[0][0]                   \n",
      "__________________________________________________________________________________________________\n",
      "conv2d_2 (Conv2D)               (None, 61, 61, 128)  73856       max_pooling2d_1[0][0]            \n",
      "__________________________________________________________________________________________________\n",
      "max_pooling2d_2 (MaxPooling2D)  (None, 30, 30, 128)  0           conv2d_2[0][0]                   \n",
      "__________________________________________________________________________________________________\n",
      "conv2d_3 (Conv2D)               (None, 28, 28, 256)  295168      max_pooling2d_2[0][0]            \n",
      "__________________________________________________________________________________________________\n",
      "max_pooling2d_3 (MaxPooling2D)  (None, 14, 14, 256)  0           conv2d_3[0][0]                   \n",
      "__________________________________________________________________________________________________\n",
      "conv2d_4 (Conv2D)               (None, 12, 12, 512)  1180160     max_pooling2d_3[0][0]            \n",
      "__________________________________________________________________________________________________\n",
      "max_pooling2d_4 (MaxPooling2D)  (None, 6, 6, 512)    0           conv2d_4[0][0]                   \n",
      "__________________________________________________________________________________________________\n",
      "conv2d_5 (Conv2D)               (None, 4, 4, 1024)   4719616     max_pooling2d_4[0][0]            \n",
      "__________________________________________________________________________________________________\n",
      "global_average_pooling2d_1 (Glo (None, 1024)         0           conv2d_5[0][0]                   \n",
      "__________________________________________________________________________________________________\n",
      "dense_1 (Dense)                 (None, 128)          131200      global_average_pooling2d_1[0][0] \n",
      "__________________________________________________________________________________________________\n",
      "dropout_1 (Dropout)             (None, 128)          0           dense_1[0][0]                    \n",
      "__________________________________________________________________________________________________\n",
      "dense_2 (Dense)                 (None, 12)           1548        dropout_1[0][0]                  \n",
      "__________________________________________________________________________________________________\n",
      "dense_3 (Dense)                 (None, 12)           1548        dropout_1[0][0]                  \n",
      "==================================================================================================\n",
      "Total params: 6,404,888\n",
      "Trainable params: 6,404,888\n",
      "Non-trainable params: 0\n",
      "__________________________________________________________________________________________________\n"
     ]
    }
   ],
   "source": [
    "input_layer = Input(shape=shape)\n",
    "conv1 = Convolution2D(64, kernel_size=3,activation='relu')(input_layer)\n",
    "pool1 = MaxPooling2D()(conv1)\n",
    "conv2 = Convolution2D(128, kernel_size=3,activation='relu')(pool1)\n",
    "pool2 = MaxPooling2D()(conv2)\n",
    "conv3 = Convolution2D(256, kernel_size=3,activation='relu')(pool2)\n",
    "pool3 = MaxPooling2D()(conv3)\n",
    "conv4 = Convolution2D(512, kernel_size=3,activation='relu')(pool3)\n",
    "pool4 = MaxPooling2D()(conv4)\n",
    "conv5 = Convolution2D(1024, kernel_size=3,activation='relu')(pool4)\n",
    "gap = GlobalAveragePooling2D()(conv5)\n",
    "hidden = Dense(128,activation='relu')(gap)\n",
    "drop = Dropout(rate=0.5)(hidden)\n",
    "output1 = Dense(12, activation='softmax')(drop)\n",
    "output2 = Dense(12, activation='softmax')(drop)\n",
    "\n",
    "model = Model(inputs=input_layer, outputs=[output1, output2])\n",
    "model.compile(optimizer='adam', loss=['categorical_crossentropy', 'categorical_crossentropy'],\n",
    "              metrics=['accuracy'], loss_weights=[1., 1])\n",
    "\n",
    "model.summary()"
   ]
  },
  {
   "cell_type": "code",
   "execution_count": 11,
   "metadata": {},
   "outputs": [
    {
     "name": "stdout",
     "output_type": "stream",
     "text": [
      "WARNING:tensorflow:From /home/raphael/.local/lib/python3.6/site-packages/tensorflow/python/ops/math_ops.py:3066: to_int32 (from tensorflow.python.ops.math_ops) is deprecated and will be removed in a future version.\n",
      "Instructions for updating:\n",
      "Use tf.cast instead.\n",
      "Epoch 1/3\n",
      "4500/4500 [==============================] - 460s 102ms/step - loss: 4.9630 - dense_2_loss: 2.4603 - dense_3_loss: 2.5026 - dense_2_acc: 0.0976 - dense_3_acc: 0.0787\n",
      "Epoch 2/3\n",
      "4500/4500 [==============================] - 466s 104ms/step - loss: 4.6045 - dense_2_loss: 2.0787 - dense_3_loss: 2.5258 - dense_2_acc: 0.2129 - dense_3_acc: 0.0793\n",
      "Epoch 3/3\n",
      "4500/4500 [==============================] - 455s 101ms/step - loss: 4.4972 - dense_2_loss: 2.0104 - dense_3_loss: 2.4868 - dense_2_acc: 0.2338 - dense_3_acc: 0.0920\n"
     ]
    },
    {
     "data": {
      "text/plain": [
       "<keras.callbacks.History at 0x7f3388511828>"
      ]
     },
     "execution_count": 11,
     "metadata": {},
     "output_type": "execute_result"
    }
   ],
   "source": [
    "model.fit(X_train, [y_train[:,:12],y_train[:,12:]],\n",
    "          epochs=3,\n",
    "          batch_size=10)"
   ]
  },
  {
   "cell_type": "code",
   "execution_count": 12,
   "metadata": {},
   "outputs": [
    {
     "name": "stdout",
     "output_type": "stream",
     "text": [
      "500/500 [==============================] - 13s 26ms/step\n"
     ]
    },
    {
     "data": {
      "text/plain": [
       "[4.40783664226532,\n",
       " 1.9986109399795533,\n",
       " 2.4092256927490237,\n",
       " 0.2280000051856041,\n",
       " 0.15600000321865082]"
      ]
     },
     "execution_count": 12,
     "metadata": {},
     "output_type": "execute_result"
    }
   ],
   "source": [
    "model.evaluate(X_test, [y_test[:,:12],y_test[:,12:]], batch_size=10)"
   ]
  },
  {
   "cell_type": "code",
   "execution_count": null,
   "metadata": {},
   "outputs": [],
   "source": [
    "path = 'google_images'\n",
    "files = listdir(path)\n",
    "len(files)"
   ]
  },
  {
   "cell_type": "code",
   "execution_count": null,
   "metadata": {},
   "outputs": [],
   "source": [
    "for i in range(41):\n",
    "    img = Image.open(path+'/'+files[i])\n",
    "    img.thumbnail((128, 128), Image.ANTIALIAS) # resizes image in-place\n",
    "    img = np.asarray(img)\n",
    "    print(img.shape)\n",
    "    if (img.shape[:3] == (128,128,3)):   \n",
    "        imgplot = plt.imshow(img)\n",
    "        plt.show()\n",
    "        pred = model.predict(img.reshape(1,128,128,3))\n",
    "        h = np.argmax(pred[0])+1\n",
    "        m = np.argmax(pred[1])*5\n",
    "        print(str(h)+\":\"+str(m))\n",
    "        print(pred)\n",
    "    else:\n",
    "        print(i)"
   ]
  },
  {
   "cell_type": "code",
   "execution_count": null,
   "metadata": {},
   "outputs": [],
   "source": [
    "model.save('270319.h5')"
   ]
  },
  {
   "cell_type": "code",
   "execution_count": null,
   "metadata": {},
   "outputs": [],
   "source": []
  }
 ],
 "metadata": {
  "kernelspec": {
   "display_name": "Python 3",
   "language": "python",
   "name": "python3"
  },
  "language_info": {
   "codemirror_mode": {
    "name": "ipython",
    "version": 3
   },
   "file_extension": ".py",
   "mimetype": "text/x-python",
   "name": "python",
   "nbconvert_exporter": "python",
   "pygments_lexer": "ipython3",
   "version": "3.6.8"
  }
 },
 "nbformat": 4,
 "nbformat_minor": 2
}
